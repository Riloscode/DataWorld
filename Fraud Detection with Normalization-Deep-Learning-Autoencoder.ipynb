{
 "cells": [
  {
   "cell_type": "markdown",
   "id": "f9e11650",
   "metadata": {},
   "source": [
    "## Fraud detection "
   ]
  },
  {
   "cell_type": "markdown",
   "id": "0d212308",
   "metadata": {},
   "source": [
    "### Main challenges involved in credit card fraud detection are:\n",
    "\n",
    "Enormous Data is processed every day and the model build must be fast enough to respond to the scam in time.\n",
    "\n",
    "Imbalanced Data i.e most of the transactions (99.8%) are not fraudulent which makes it really hard for detecting the fraudulent ones\n",
    "\n",
    "Data availability as the data is mostly private.\n",
    "\n",
    "Misclassified Data can be another major issue, as not every fraudulent transaction is caught and reported.\n",
    "\n",
    "Adaptive techniques used against the model by the scammers."
   ]
  },
  {
   "cell_type": "markdown",
   "id": "10f48cb7",
   "metadata": {},
   "source": [
    "### Import Packages"
   ]
  },
  {
   "cell_type": "code",
   "execution_count": 1,
   "id": "4c3c1c20",
   "metadata": {},
   "outputs": [],
   "source": [
    "import numpy as np\n",
    "import pandas as pd\n",
    "from sklearn.model_selection import train_test_split\n",
    "from sklearn.preprocessing import StandardScaler\n",
    "from sklearn.metrics import confusion_matrix, precision_recall_curve\n",
    "import matplotlib.pyplot as plt\n",
    "import tensorflow "
   ]
  },
  {
   "cell_type": "markdown",
   "id": "e34a0a74",
   "metadata": {},
   "source": [
    "## Load Data"
   ]
  },
  {
   "cell_type": "code",
   "execution_count": 2,
   "id": "7daea3aa",
   "metadata": {},
   "outputs": [
    {
     "data": {
      "text/html": [
       "<div>\n",
       "<style scoped>\n",
       "    .dataframe tbody tr th:only-of-type {\n",
       "        vertical-align: middle;\n",
       "    }\n",
       "\n",
       "    .dataframe tbody tr th {\n",
       "        vertical-align: top;\n",
       "    }\n",
       "\n",
       "    .dataframe thead th {\n",
       "        text-align: right;\n",
       "    }\n",
       "</style>\n",
       "<table border=\"1\" class=\"dataframe\">\n",
       "  <thead>\n",
       "    <tr style=\"text-align: right;\">\n",
       "      <th></th>\n",
       "      <th>Time</th>\n",
       "      <th>V1</th>\n",
       "      <th>V2</th>\n",
       "      <th>V3</th>\n",
       "      <th>V4</th>\n",
       "      <th>V5</th>\n",
       "      <th>V6</th>\n",
       "      <th>V7</th>\n",
       "      <th>V8</th>\n",
       "      <th>V9</th>\n",
       "      <th>...</th>\n",
       "      <th>V21</th>\n",
       "      <th>V22</th>\n",
       "      <th>V23</th>\n",
       "      <th>V24</th>\n",
       "      <th>V25</th>\n",
       "      <th>V26</th>\n",
       "      <th>V27</th>\n",
       "      <th>V28</th>\n",
       "      <th>Amount</th>\n",
       "      <th>Class</th>\n",
       "    </tr>\n",
       "  </thead>\n",
       "  <tbody>\n",
       "    <tr>\n",
       "      <th>0</th>\n",
       "      <td>0.0</td>\n",
       "      <td>-1.359807</td>\n",
       "      <td>-0.072781</td>\n",
       "      <td>2.536347</td>\n",
       "      <td>1.378155</td>\n",
       "      <td>-0.338321</td>\n",
       "      <td>0.462388</td>\n",
       "      <td>0.239599</td>\n",
       "      <td>0.098698</td>\n",
       "      <td>0.363787</td>\n",
       "      <td>...</td>\n",
       "      <td>-0.018307</td>\n",
       "      <td>0.277838</td>\n",
       "      <td>-0.110474</td>\n",
       "      <td>0.066928</td>\n",
       "      <td>0.128539</td>\n",
       "      <td>-0.189115</td>\n",
       "      <td>0.133558</td>\n",
       "      <td>-0.021053</td>\n",
       "      <td>149.62</td>\n",
       "      <td>0</td>\n",
       "    </tr>\n",
       "    <tr>\n",
       "      <th>1</th>\n",
       "      <td>0.0</td>\n",
       "      <td>1.191857</td>\n",
       "      <td>0.266151</td>\n",
       "      <td>0.166480</td>\n",
       "      <td>0.448154</td>\n",
       "      <td>0.060018</td>\n",
       "      <td>-0.082361</td>\n",
       "      <td>-0.078803</td>\n",
       "      <td>0.085102</td>\n",
       "      <td>-0.255425</td>\n",
       "      <td>...</td>\n",
       "      <td>-0.225775</td>\n",
       "      <td>-0.638672</td>\n",
       "      <td>0.101288</td>\n",
       "      <td>-0.339846</td>\n",
       "      <td>0.167170</td>\n",
       "      <td>0.125895</td>\n",
       "      <td>-0.008983</td>\n",
       "      <td>0.014724</td>\n",
       "      <td>2.69</td>\n",
       "      <td>0</td>\n",
       "    </tr>\n",
       "    <tr>\n",
       "      <th>2</th>\n",
       "      <td>1.0</td>\n",
       "      <td>-1.358354</td>\n",
       "      <td>-1.340163</td>\n",
       "      <td>1.773209</td>\n",
       "      <td>0.379780</td>\n",
       "      <td>-0.503198</td>\n",
       "      <td>1.800499</td>\n",
       "      <td>0.791461</td>\n",
       "      <td>0.247676</td>\n",
       "      <td>-1.514654</td>\n",
       "      <td>...</td>\n",
       "      <td>0.247998</td>\n",
       "      <td>0.771679</td>\n",
       "      <td>0.909412</td>\n",
       "      <td>-0.689281</td>\n",
       "      <td>-0.327642</td>\n",
       "      <td>-0.139097</td>\n",
       "      <td>-0.055353</td>\n",
       "      <td>-0.059752</td>\n",
       "      <td>378.66</td>\n",
       "      <td>0</td>\n",
       "    </tr>\n",
       "    <tr>\n",
       "      <th>3</th>\n",
       "      <td>1.0</td>\n",
       "      <td>-0.966272</td>\n",
       "      <td>-0.185226</td>\n",
       "      <td>1.792993</td>\n",
       "      <td>-0.863291</td>\n",
       "      <td>-0.010309</td>\n",
       "      <td>1.247203</td>\n",
       "      <td>0.237609</td>\n",
       "      <td>0.377436</td>\n",
       "      <td>-1.387024</td>\n",
       "      <td>...</td>\n",
       "      <td>-0.108300</td>\n",
       "      <td>0.005274</td>\n",
       "      <td>-0.190321</td>\n",
       "      <td>-1.175575</td>\n",
       "      <td>0.647376</td>\n",
       "      <td>-0.221929</td>\n",
       "      <td>0.062723</td>\n",
       "      <td>0.061458</td>\n",
       "      <td>123.50</td>\n",
       "      <td>0</td>\n",
       "    </tr>\n",
       "    <tr>\n",
       "      <th>4</th>\n",
       "      <td>2.0</td>\n",
       "      <td>-1.158233</td>\n",
       "      <td>0.877737</td>\n",
       "      <td>1.548718</td>\n",
       "      <td>0.403034</td>\n",
       "      <td>-0.407193</td>\n",
       "      <td>0.095921</td>\n",
       "      <td>0.592941</td>\n",
       "      <td>-0.270533</td>\n",
       "      <td>0.817739</td>\n",
       "      <td>...</td>\n",
       "      <td>-0.009431</td>\n",
       "      <td>0.798278</td>\n",
       "      <td>-0.137458</td>\n",
       "      <td>0.141267</td>\n",
       "      <td>-0.206010</td>\n",
       "      <td>0.502292</td>\n",
       "      <td>0.219422</td>\n",
       "      <td>0.215153</td>\n",
       "      <td>69.99</td>\n",
       "      <td>0</td>\n",
       "    </tr>\n",
       "  </tbody>\n",
       "</table>\n",
       "<p>5 rows × 31 columns</p>\n",
       "</div>"
      ],
      "text/plain": [
       "   Time        V1        V2        V3        V4        V5        V6        V7  \\\n",
       "0   0.0 -1.359807 -0.072781  2.536347  1.378155 -0.338321  0.462388  0.239599   \n",
       "1   0.0  1.191857  0.266151  0.166480  0.448154  0.060018 -0.082361 -0.078803   \n",
       "2   1.0 -1.358354 -1.340163  1.773209  0.379780 -0.503198  1.800499  0.791461   \n",
       "3   1.0 -0.966272 -0.185226  1.792993 -0.863291 -0.010309  1.247203  0.237609   \n",
       "4   2.0 -1.158233  0.877737  1.548718  0.403034 -0.407193  0.095921  0.592941   \n",
       "\n",
       "         V8        V9  ...       V21       V22       V23       V24       V25  \\\n",
       "0  0.098698  0.363787  ... -0.018307  0.277838 -0.110474  0.066928  0.128539   \n",
       "1  0.085102 -0.255425  ... -0.225775 -0.638672  0.101288 -0.339846  0.167170   \n",
       "2  0.247676 -1.514654  ...  0.247998  0.771679  0.909412 -0.689281 -0.327642   \n",
       "3  0.377436 -1.387024  ... -0.108300  0.005274 -0.190321 -1.175575  0.647376   \n",
       "4 -0.270533  0.817739  ... -0.009431  0.798278 -0.137458  0.141267 -0.206010   \n",
       "\n",
       "        V26       V27       V28  Amount  Class  \n",
       "0 -0.189115  0.133558 -0.021053  149.62      0  \n",
       "1  0.125895 -0.008983  0.014724    2.69      0  \n",
       "2 -0.139097 -0.055353 -0.059752  378.66      0  \n",
       "3 -0.221929  0.062723  0.061458  123.50      0  \n",
       "4  0.502292  0.219422  0.215153   69.99      0  \n",
       "\n",
       "[5 rows x 31 columns]"
      ]
     },
     "execution_count": 2,
     "metadata": {},
     "output_type": "execute_result"
    }
   ],
   "source": [
    "df = pd.read_csv('creditcard.csv')\n",
    "df.head()"
   ]
  },
  {
   "cell_type": "markdown",
   "id": "32ee0b5d",
   "metadata": {},
   "source": [
    "### Splitting features and labels"
   ]
  },
  {
   "cell_type": "code",
   "execution_count": 13,
   "id": "7fd79958",
   "metadata": {},
   "outputs": [
    {
     "name": "stdout",
     "output_type": "stream",
     "text": [
      "Index(['Time', 'V1', 'V2', 'V3', 'V4', 'V5', 'V6', 'V7', 'V8', 'V9', 'V10',\n",
      "       'V11', 'V12', 'V13', 'V14', 'V15', 'V16', 'V17', 'V18', 'V19', 'V20',\n",
      "       'V21', 'V22', 'V23', 'V24', 'V25', 'V26', 'V27', 'V28', 'Amount'],\n",
      "      dtype='object')\n"
     ]
    }
   ],
   "source": [
    "# Splitting features and labels\n",
    "X = df.drop(columns=['Class'])\n",
    "y = df['Class']\n",
    "print(X.columns)\n",
    "\n"
   ]
  },
  {
   "cell_type": "markdown",
   "id": "de89ba61",
   "metadata": {},
   "source": [
    "### Splitting into training and testing sets"
   ]
  },
  {
   "cell_type": "code",
   "execution_count": 14,
   "id": "ffb1cec8",
   "metadata": {},
   "outputs": [],
   "source": [
    "# Splitting into training and testing sets\n",
    "X_train, X_test, y_train, y_test = train_test_split(X, y, test_size=0.2, random_state=42)"
   ]
  },
  {
   "cell_type": "markdown",
   "id": "0081fe70",
   "metadata": {},
   "source": [
    "### Normalizing the data"
   ]
  },
  {
   "cell_type": "code",
   "execution_count": 23,
   "id": "0b95c9f7",
   "metadata": {},
   "outputs": [],
   "source": [
    "# Normalizing the data\n",
    "# scaler = StandardScaler()\n",
    "# X_train = scaler.fit_transform(X_train)\n",
    "# X_test = scaler.transform(X_test)"
   ]
  },
  {
   "cell_type": "code",
   "execution_count": 16,
   "id": "4a1deef7",
   "metadata": {},
   "outputs": [],
   "source": [
    "# # Combining the normalized features and labels back into a DataFrame\n",
    "# scaled_df_train = pd.DataFrame(X_train, columns=X.columns)\n",
    "# scaled_df_train['Class'] = y_train.values\n",
    "\n",
    "# scaled_df_test = pd.DataFrame(X_test, columns=X.columns)\n",
    "# scaled_df_test['Class'] = y_test.values\n",
    "\n",
    "# scaled_df = pd.concat([scaled_df_train, scaled_df_test])"
   ]
  },
  {
   "cell_type": "markdown",
   "id": "382aaf8c",
   "metadata": {},
   "source": [
    "### Calculating the outlier fraction"
   ]
  },
  {
   "cell_type": "code",
   "execution_count": 49,
   "id": "17fb6b83",
   "metadata": {},
   "outputs": [
    {
     "name": "stdout",
     "output_type": "stream",
     "text": [
      "0.0017304750013189597\n",
      "Fraud Cases: 492\n"
     ]
    }
   ],
   "source": [
    "# Calculating the outlier fraction\n",
    "fraud = df[df['Class'] == 1] \n",
    "valid = df[df['Class'] == 0] \n",
    "\n",
    "if len(valid) > 0:\n",
    "    outlierFraction = len(fraud) / float(len(valid))\n",
    "    print(outlierFraction)\n",
    "    print('Fraud Cases: {}'.format(len(scaled_df[scaled_df['Class'] == 1])))\n",
    "else:\n",
    "    print(\"No valid transactions in the dataset.\")"
   ]
  },
  {
   "cell_type": "markdown",
   "id": "43b59eb6",
   "metadata": {},
   "source": [
    "### Choose a Model"
   ]
  },
  {
   "cell_type": "code",
   "execution_count": 50,
   "id": "032cb0b7",
   "metadata": {},
   "outputs": [
    {
     "name": "stdout",
     "output_type": "stream",
     "text": [
      "Epoch 1/20\n",
      "\u001b[1m889/889\u001b[0m \u001b[32m━━━━━━━━━━━━━━━━━━━━\u001b[0m\u001b[37m\u001b[0m \u001b[1m1s\u001b[0m 499us/step - loss: 0.8399 - val_loss: 0.6773\n",
      "Epoch 2/20\n",
      "\u001b[1m889/889\u001b[0m \u001b[32m━━━━━━━━━━━━━━━━━━━━\u001b[0m\u001b[37m\u001b[0m \u001b[1m0s\u001b[0m 452us/step - loss: 0.6459 - val_loss: 0.6665\n",
      "Epoch 3/20\n",
      "\u001b[1m889/889\u001b[0m \u001b[32m━━━━━━━━━━━━━━━━━━━━\u001b[0m\u001b[37m\u001b[0m \u001b[1m0s\u001b[0m 446us/step - loss: 0.6335 - val_loss: 0.6627\n",
      "Epoch 4/20\n",
      "\u001b[1m889/889\u001b[0m \u001b[32m━━━━━━━━━━━━━━━━━━━━\u001b[0m\u001b[37m\u001b[0m \u001b[1m0s\u001b[0m 429us/step - loss: 0.6316 - val_loss: 0.6598\n",
      "Epoch 5/20\n",
      "\u001b[1m889/889\u001b[0m \u001b[32m━━━━━━━━━━━━━━━━━━━━\u001b[0m\u001b[37m\u001b[0m \u001b[1m0s\u001b[0m 425us/step - loss: 0.6283 - val_loss: 0.6584\n",
      "Epoch 6/20\n",
      "\u001b[1m889/889\u001b[0m \u001b[32m━━━━━━━━━━━━━━━━━━━━\u001b[0m\u001b[37m\u001b[0m \u001b[1m0s\u001b[0m 412us/step - loss: 0.6243 - val_loss: 0.6573\n",
      "Epoch 7/20\n",
      "\u001b[1m889/889\u001b[0m \u001b[32m━━━━━━━━━━━━━━━━━━━━\u001b[0m\u001b[37m\u001b[0m \u001b[1m0s\u001b[0m 410us/step - loss: 0.6232 - val_loss: 0.6567\n",
      "Epoch 8/20\n",
      "\u001b[1m889/889\u001b[0m \u001b[32m━━━━━━━━━━━━━━━━━━━━\u001b[0m\u001b[37m\u001b[0m \u001b[1m0s\u001b[0m 403us/step - loss: 0.6311 - val_loss: 0.6564\n",
      "Epoch 9/20\n",
      "\u001b[1m889/889\u001b[0m \u001b[32m━━━━━━━━━━━━━━━━━━━━\u001b[0m\u001b[37m\u001b[0m \u001b[1m0s\u001b[0m 403us/step - loss: 0.6321 - val_loss: 0.6561\n",
      "Epoch 10/20\n",
      "\u001b[1m889/889\u001b[0m \u001b[32m━━━━━━━━━━━━━━━━━━━━\u001b[0m\u001b[37m\u001b[0m \u001b[1m0s\u001b[0m 401us/step - loss: 0.6232 - val_loss: 0.6558\n",
      "Epoch 11/20\n",
      "\u001b[1m889/889\u001b[0m \u001b[32m━━━━━━━━━━━━━━━━━━━━\u001b[0m\u001b[37m\u001b[0m \u001b[1m0s\u001b[0m 403us/step - loss: 0.6274 - val_loss: 0.6557\n",
      "Epoch 12/20\n",
      "\u001b[1m889/889\u001b[0m \u001b[32m━━━━━━━━━━━━━━━━━━━━\u001b[0m\u001b[37m\u001b[0m \u001b[1m0s\u001b[0m 399us/step - loss: 0.6298 - val_loss: 0.6557\n",
      "Epoch 13/20\n",
      "\u001b[1m889/889\u001b[0m \u001b[32m━━━━━━━━━━━━━━━━━━━━\u001b[0m\u001b[37m\u001b[0m \u001b[1m0s\u001b[0m 413us/step - loss: 0.6194 - val_loss: 0.6556\n",
      "Epoch 14/20\n",
      "\u001b[1m889/889\u001b[0m \u001b[32m━━━━━━━━━━━━━━━━━━━━\u001b[0m\u001b[37m\u001b[0m \u001b[1m0s\u001b[0m 404us/step - loss: 0.6286 - val_loss: 0.6556\n",
      "Epoch 15/20\n",
      "\u001b[1m889/889\u001b[0m \u001b[32m━━━━━━━━━━━━━━━━━━━━\u001b[0m\u001b[37m\u001b[0m \u001b[1m0s\u001b[0m 401us/step - loss: 0.6255 - val_loss: 0.6556\n",
      "Epoch 16/20\n",
      "\u001b[1m889/889\u001b[0m \u001b[32m━━━━━━━━━━━━━━━━━━━━\u001b[0m\u001b[37m\u001b[0m \u001b[1m0s\u001b[0m 404us/step - loss: 0.6158 - val_loss: 0.6556\n",
      "Epoch 17/20\n",
      "\u001b[1m889/889\u001b[0m \u001b[32m━━━━━━━━━━━━━━━━━━━━\u001b[0m\u001b[37m\u001b[0m \u001b[1m0s\u001b[0m 406us/step - loss: 0.6439 - val_loss: 0.6555\n",
      "Epoch 18/20\n",
      "\u001b[1m889/889\u001b[0m \u001b[32m━━━━━━━━━━━━━━━━━━━━\u001b[0m\u001b[37m\u001b[0m \u001b[1m0s\u001b[0m 411us/step - loss: 0.6165 - val_loss: 0.6555\n",
      "Epoch 19/20\n",
      "\u001b[1m889/889\u001b[0m \u001b[32m━━━━━━━━━━━━━━━━━━━━\u001b[0m\u001b[37m\u001b[0m \u001b[1m0s\u001b[0m 400us/step - loss: 0.6358 - val_loss: 0.6555\n",
      "Epoch 20/20\n",
      "\u001b[1m889/889\u001b[0m \u001b[32m━━━━━━━━━━━━━━━━━━━━\u001b[0m\u001b[37m\u001b[0m \u001b[1m0s\u001b[0m 404us/step - loss: 0.6254 - val_loss: 0.6555\n",
      "\u001b[1m8901/8901\u001b[0m \u001b[32m━━━━━━━━━━━━━━━━━━━━\u001b[0m\u001b[37m\u001b[0m \u001b[1m2s\u001b[0m 202us/step\n",
      "0.05000228224727622\n",
      "Fraud Cases: 14241\n"
     ]
    }
   ],
   "source": [
    "from tensorflow.keras.layers import Input, Dense, LeakyReLU\n",
    "from tensorflow.keras.models import Model\n",
    "from tensorflow.keras.layers import Dropout\n",
    "from tensorflow.keras import regularizers\n",
    "from tensorflow.keras.callbacks import EarlyStopping\n",
    "from sklearn.metrics import precision_score, recall_score, f1_score\n",
    "from imblearn.over_sampling import RandomOverSampler\n",
    "\n",
    "\n",
    "# Autoencoder architecture\n",
    "input_layer = Input(shape=(X_train.shape[1],))\n",
    "encoded = Dense(64, activation=LeakyReLU(negative_slope=0.1))(input_layer)\n",
    "decoded = Dense(X_train.shape[1], activation='sigmoid')(encoded)\n",
    "\n",
    "# Autoencoder model\n",
    "autoencoder = Model(input_layer, decoded)\n",
    "autoencoder.compile(optimizer='adam', loss='mse')\n",
    "\n",
    "# Define early stopping callback\n",
    "early_stopping = EarlyStopping(monitor='val_loss', patience=3, restore_best_weights=True)\n",
    "\n",
    "# Training the autoencoder using only normal transactions\n",
    "autoencoder.fit(normal_transactions, normal_transactions, epochs=20, batch_size=256, shuffle=True,\n",
    "                validation_data=(X_test, X_test), callbacks=[early_stopping])\n",
    "\n",
    "# Using the trained autoencoder to reconstruct both normal and fraud transactions\n",
    "reconstructions = autoencoder.predict(X)\n",
    "\n",
    "# Calculating the reconstruction error\n",
    "mse = np.mean(np.power(X - reconstructions, 2), axis=1)\n",
    "\n",
    "# Set a threshold for the reconstruction error\n",
    "threshold = np.percentile(mse, 95)  # For example, using the 80th percentile as the threshold\n",
    "\n",
    "# Label instances as fraud or not based on the threshold\n",
    "labels = np.where(mse > threshold, 1, 0)\n",
    "\n",
    "# Printing the outlier fraction and number of fraud cases\n",
    "outlierFraction = len(labels[labels==1]) / float(len(labels))\n",
    "print(outlierFraction)\n",
    "print('Fraud Cases: {}'.format(len(labels[labels==1])))\n",
    "\n",
    "# # Using RandomOverSampler to oversample the minority class\n",
    "# ros = RandomOverSampler(random_state=42)\n",
    "# X_resampled, y_resampled = ros.fit_resample(X_train, y_train)\n",
    "\n",
    "# # Autoencoder model training with oversampled data\n",
    "# autoencoder.fit(X_resampled, X_resampled, epochs=20, batch_size=100, shuffle=True,\n",
    "#                 validation_data=(X_test, X_test), callbacks=[early_stopping])\n",
    "\n",
    "# # Using the trained autoencoder to reconstruct both normal and fraud transactions\n",
    "# reconstructions = autoencoder.predict(X)\n",
    "\n",
    "# # Calculating the reconstruction error\n",
    "# mse = np.mean(np.power(X - reconstructions, 2), axis=1)\n",
    "\n",
    "# # Set a threshold for the reconstruction error\n",
    "# threshold = np.percentile(mse, 90)  # For example, using the 80th percentile as the threshold\n",
    "\n",
    "# # Label instances as fraud or not based on the threshold\n",
    "# labels = np.where(mse > threshold, 1, 0)\n",
    "\n",
    "# # Printing the outlier fraction and number of fraud cases\n",
    "# outlierFraction = len(labels[labels==1]) / float(len(labels))\n",
    "# print(outlierFraction)\n",
    "# print('Fraud Cases: {}'.format(len(labels[labels==1])))\n"
   ]
  },
  {
   "cell_type": "markdown",
   "id": "ffe7de83",
   "metadata": {},
   "source": [
    "### Evaluating parameters"
   ]
  },
  {
   "cell_type": "code",
   "execution_count": 51,
   "id": "4fa87884",
   "metadata": {},
   "outputs": [
    {
     "data": {
      "image/png": "[encoded data removed]",
      "text/plain": [
       "<Figure size 1000x600 with 1 Axes>"
      ]
     },
     "metadata": {},
     "output_type": "display_data"
    },
    {
     "name": "stdout",
     "output_type": "stream",
     "text": [
      "Classification Report:\n",
      "              precision    recall  f1-score   support\n",
      "\n",
      "           0       1.00      0.95      0.97    284315\n",
      "           1       0.00      0.02      0.00       492\n",
      "\n",
      "    accuracy                           0.95    284807\n",
      "   macro avg       0.50      0.49      0.49    284807\n",
      "weighted avg       1.00      0.95      0.97    284807\n",
      "\n",
      "Confusion Matrix:\n",
      "[[270085  14230]\n",
      " [   481     11]]\n"
     ]
    }
   ],
   "source": [
    "import matplotlib.pyplot as plt\n",
    "\n",
    "# Plotting the distribution of reconstruction errors\n",
    "plt.figure(figsize=(10, 6))\n",
    "plt.hist(mse[y == 0], bins=50, alpha=0.5, label='Normal')\n",
    "plt.hist(mse[y == 1], bins=50, alpha=0.5, label='Fraud')\n",
    "plt.axvline(x=threshold, color='r', linestyle='--', label='Threshold')\n",
    "plt.xlabel('Reconstruction Error')\n",
    "plt.ylabel('Count')\n",
    "plt.title('Reconstruction Error Distribution')\n",
    "plt.legend()\n",
    "plt.show()\n",
    "\n",
    "# Evaluating the performance of the autoencoder\n",
    "from sklearn.metrics import classification_report, confusion_matrix\n",
    "\n",
    "# Thresholding the reconstruction errors to get the predicted labels\n",
    "predicted_labels = (mse > threshold).astype(int)\n",
    "\n",
    "# Creating a confusion matrix\n",
    "conf_matrix = confusion_matrix(y, predicted_labels)\n",
    "\n",
    "# Printing the classification report and confusion matrix\n",
    "print(\"Classification Report:\")\n",
    "print(classification_report(y, predicted_labels))\n",
    "print(\"Confusion Matrix:\")\n",
    "print(conf_matrix)"
   ]
  },
  {
   "cell_type": "markdown",
   "id": "152e9050",
   "metadata": {},
   "source": [
    "### Visualizing the Confusion Matrix"
   ]
  },
  {
   "cell_type": "code",
   "execution_count": null,
   "id": "5b024cfd",
   "metadata": {},
   "outputs": [],
   "source": []
  },
  {
   "cell_type": "code",
   "execution_count": null,
   "id": "5c450d1b",
   "metadata": {},
   "outputs": [],
   "source": []
  }
 ],
 "metadata": {
  "kernelspec": {
   "display_name": "datascience_env",
   "language": "python",
   "name": "datascience_env"
  },
  "language_info": {
   "codemirror_mode": {
    "name": "ipython",
    "version": 3
   },
   "file_extension": ".py",
   "mimetype": "text/x-python",
   "name": "python",
   "nbconvert_exporter": "python",
   "pygments_lexer": "ipython3",
   "version": "3.9.6"
  }
 },
 "nbformat": 4,
 "nbformat_minor": 5
}
